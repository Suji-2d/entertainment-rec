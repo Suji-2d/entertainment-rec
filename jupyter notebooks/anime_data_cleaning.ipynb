{
 "cells": [
  {
   "cell_type": "code",
   "execution_count": 50,
   "id": "11622c3e",
   "metadata": {},
   "outputs": [],
   "source": [
    "import pandas as pd\n",
    "import numpy as np\n",
    "import re\n",
    "import random\n",
    "from nltk.stem.porter import PorterStemmer\n",
    "from pathlib import Path  \n",
    "anime_path = Path('./data/clean_data/anime.csv')  \n",
    "anime_path.parent.mkdir(parents=True, exist_ok=True)  \n",
    "\n",
    "\n",
    "# Read data\n",
    "anime_d=pd.read_csv(\"./data/anime/anime_2022.csv\")\n",
    "\n",
    "new_ani = anime_d.drop(['ID',\n",
    " \n",
    " 'Synonyms',\n",
    " 'Japanese',\n",
    " 'Premiered',\n",
    " 'Broadcast',\n",
    " 'Licensors',\n",
    " 'Type',\n",
    " 'Episodes',\n",
    " 'Status',\n",
    " 'End_Aired',\n",
    " 'Duration_Minutes',\n",
    " 'Rating'\n",
    " ],axis=1)\n",
    "\n",
    "# Removing 'Unknown'\n",
    "#English\n",
    "new_ani['English']=np.where(new_ani['English']=='Unknown',new_ani['Title'],new_ani['English'])\n",
    "#Others\n",
    "new_ani=new_ani.replace(\"Unknown\", \"\")\n",
    "\n",
    "new_ani=new_ani.drop(['Title'],axis=1)\n",
    "\n",
    "# synopsis alteration\n",
    "ps = PorterStemmer()\n",
    "def remove_splChar_normalizeWords(ss_line):\n",
    "    word_list = []\n",
    "    ss_line = re.sub('[^A-Za-z0-9]',' ', ss_line)\n",
    "    #ss_line.replace('\\n','')\n",
    "    for word in ss_line.split():\n",
    "        word_list.append(ps.stem(word))    \n",
    "    return  \" \".join(word_list)\n",
    "\n",
    "\n",
    "new_ani['Modified Synopsis'] = new_ani['Synopsis'].apply(remove_splChar_normalizeWords)\n",
    "\n",
    "#remove commas and creating new column\n",
    "new_ani[\"Tags\"] = new_ani['Modified Synopsis'] + \" \" + new_ani['Source'] + \" \" +[v.replace(',','') for v in new_ani['Producers']] + \" \" + [v.replace(',','') for v in new_ani['Studios']] + \" \" +[v.replace(',','') for v in new_ani['Genres']] + \" \" + [v.replace(',','') for v in new_ani['Themes']] + \" \" +[v.replace(',','') for v in new_ani['Demographics']]\n"
   ]
  },
  {
   "cell_type": "code",
   "execution_count": 51,
   "id": "2d2bf0ff",
   "metadata": {},
   "outputs": [],
   "source": [
    "new_ani['Year']=[(y[-4:]) if len(y)>3 else y for y in new_ani['Start_Aired'].astype(str)]"
   ]
  },
  {
   "cell_type": "code",
   "execution_count": 52,
   "id": "7120d29d",
   "metadata": {},
   "outputs": [],
   "source": [
    "new_ani['Year'] =[int(y) if y.isnumeric() else 0 for y in new_ani['Year'].astype(str)]"
   ]
  },
  {
   "cell_type": "code",
   "execution_count": 53,
   "id": "384e0479",
   "metadata": {},
   "outputs": [],
   "source": [
    "new_ani = new_ani[new_ani['Year']>1997]"
   ]
  },
  {
   "cell_type": "code",
   "execution_count": 54,
   "id": "0dc1b3e5",
   "metadata": {},
   "outputs": [
    {
     "data": {
      "text/plain": [
       "(16672, 18)"
      ]
     },
     "execution_count": 54,
     "metadata": {},
     "output_type": "execute_result"
    }
   ],
   "source": [
    "new_ani.shape"
   ]
  },
  {
   "cell_type": "code",
   "execution_count": 55,
   "id": "444ada83",
   "metadata": {},
   "outputs": [],
   "source": [
    "new_ani = new_ani[new_ani['Score']>5]"
   ]
  },
  {
   "cell_type": "code",
   "execution_count": 56,
   "id": "344f29db",
   "metadata": {},
   "outputs": [
    {
     "data": {
      "text/plain": [
       "(11247, 18)"
      ]
     },
     "execution_count": 56,
     "metadata": {},
     "output_type": "execute_result"
    }
   ],
   "source": [
    "new_ani.shape"
   ]
  },
  {
   "cell_type": "markdown",
   "id": "e38f1c83",
   "metadata": {},
   "source": [
    "new_ani.to_csv(anime_path)"
   ]
  },
  {
   "cell_type": "code",
   "execution_count": null,
   "id": "a1d6fb14",
   "metadata": {},
   "outputs": [],
   "source": []
  }
 ],
 "metadata": {
  "kernelspec": {
   "display_name": "Python 3 (ipykernel)",
   "language": "python",
   "name": "python3"
  },
  "language_info": {
   "codemirror_mode": {
    "name": "ipython",
    "version": 3
   },
   "file_extension": ".py",
   "mimetype": "text/x-python",
   "name": "python",
   "nbconvert_exporter": "python",
   "pygments_lexer": "ipython3",
   "version": "3.9.13"
  }
 },
 "nbformat": 4,
 "nbformat_minor": 5
}
