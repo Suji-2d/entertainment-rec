{
 "cells": [
  {
   "cell_type": "code",
   "execution_count": 1,
   "id": "1415cd31",
   "metadata": {},
   "outputs": [],
   "source": [
    "import pandas as pd\n",
    "import numpy as np"
   ]
  },
  {
   "cell_type": "code",
   "execution_count": 12,
   "id": "bc2c52b3",
   "metadata": {},
   "outputs": [],
   "source": [
    "anime20_d = pd.read_csv(\"./data/anime/animes.csv\")\n",
    "rev20_d = pd.read_csv(\"./data/anime/reviews.csv\")"
   ]
  },
  {
   "cell_type": "code",
   "execution_count": 37,
   "id": "5583928e",
   "metadata": {},
   "outputs": [
    {
     "data": {
      "text/plain": [
       "86058"
      ]
     },
     "execution_count": 37,
     "metadata": {},
     "output_type": "execute_result"
    }
   ],
   "source": [
    "anime_data.size\n"
   ]
  },
  {
   "cell_type": "code",
   "execution_count": 61,
   "id": "e0236b0a",
   "metadata": {},
   "outputs": [
    {
     "name": "stdout",
     "output_type": "stream",
     "text": [
      "<class 'pandas.core.frame.DataFrame'>\n",
      "RangeIndex: 21460 entries, 0 to 21459\n",
      "Data columns (total 28 columns):\n",
      " #   Column            Non-Null Count  Dtype  \n",
      "---  ------            --------------  -----  \n",
      " 0   ID                21460 non-null  int64  \n",
      " 1   Title             21460 non-null  object \n",
      " 2   Synonyms          21460 non-null  object \n",
      " 3   Japanese          21460 non-null  object \n",
      " 4   English           21460 non-null  object \n",
      " 5   Synopsis          21460 non-null  object \n",
      " 6   Type              21460 non-null  object \n",
      " 7   Episodes          20913 non-null  float64\n",
      " 8   Status            21460 non-null  object \n",
      " 9   Start_Aired       21460 non-null  object \n",
      " 10  End_Aired         21460 non-null  object \n",
      " 11  Premiered         21460 non-null  object \n",
      " 12  Broadcast         21460 non-null  object \n",
      " 13  Producers         21460 non-null  object \n",
      " 14  Licensors         21460 non-null  object \n",
      " 15  Studios           21460 non-null  object \n",
      " 16  Source            21460 non-null  object \n",
      " 17  Genres            21460 non-null  object \n",
      " 18  Themes            21460 non-null  object \n",
      " 19  Demographics      21460 non-null  object \n",
      " 20  Duration_Minutes  20861 non-null  float64\n",
      " 21  Rating            21460 non-null  object \n",
      " 22  Score             14562 non-null  float64\n",
      " 23  Scored_Users      14562 non-null  float64\n",
      " 24  Ranked            19536 non-null  float64\n",
      " 25  Popularity        21460 non-null  int64  \n",
      " 26  Members           21460 non-null  int64  \n",
      " 27  Favorites         21460 non-null  int64  \n",
      "dtypes: float64(5), int64(4), object(19)\n",
      "memory usage: 4.6+ MB\n"
     ]
    }
   ],
   "source": [
    "anime_d=pd.read_csv(\"./data/anime/anime_2022.csv\")\n",
    "anime_d.head()\n",
    "anime_d.info()"
   ]
  },
  {
   "cell_type": "code",
   "execution_count": null,
   "id": "163d32e9",
   "metadata": {},
   "outputs": [],
   "source": []
  },
  {
   "cell_type": "code",
   "execution_count": 11,
   "id": "0f2b24e6",
   "metadata": {},
   "outputs": [
    {
     "data": {
      "text/html": [
       "<div>\n",
       "<style scoped>\n",
       "    .dataframe tbody tr th:only-of-type {\n",
       "        vertical-align: middle;\n",
       "    }\n",
       "\n",
       "    .dataframe tbody tr th {\n",
       "        vertical-align: top;\n",
       "    }\n",
       "\n",
       "    .dataframe thead th {\n",
       "        text-align: right;\n",
       "    }\n",
       "</style>\n",
       "<table border=\"1\" class=\"dataframe\">\n",
       "  <thead>\n",
       "    <tr style=\"text-align: right;\">\n",
       "      <th></th>\n",
       "      <th>ID</th>\n",
       "      <th>Title</th>\n",
       "      <th>Synonyms</th>\n",
       "      <th>Japanese</th>\n",
       "      <th>English</th>\n",
       "      <th>Synopsis</th>\n",
       "      <th>Type</th>\n",
       "      <th>Episodes</th>\n",
       "      <th>Status</th>\n",
       "      <th>Start_Aired</th>\n",
       "      <th>...</th>\n",
       "      <th>Themes</th>\n",
       "      <th>Demographics</th>\n",
       "      <th>Duration_Minutes</th>\n",
       "      <th>Rating</th>\n",
       "      <th>Score</th>\n",
       "      <th>Scored_Users</th>\n",
       "      <th>Ranked</th>\n",
       "      <th>Popularity</th>\n",
       "      <th>Members</th>\n",
       "      <th>Favorites</th>\n",
       "    </tr>\n",
       "  </thead>\n",
       "  <tbody>\n",
       "    <tr>\n",
       "      <th>93</th>\n",
       "      <td>37521</td>\n",
       "      <td>Vinland Saga</td>\n",
       "      <td>Unknown</td>\n",
       "      <td>ヴィンランド・サガ</td>\n",
       "      <td>Unknown</td>\n",
       "      <td>Young Thorfinn grew up listening to the storie...</td>\n",
       "      <td>TV</td>\n",
       "      <td>24.0</td>\n",
       "      <td>Finished Airing</td>\n",
       "      <td>Jul 8, 2019</td>\n",
       "      <td>...</td>\n",
       "      <td>Historical</td>\n",
       "      <td>Seinen</td>\n",
       "      <td>24.0</td>\n",
       "      <td>R - 17+ (violence &amp; profanity)</td>\n",
       "      <td>8.731</td>\n",
       "      <td>647802.0</td>\n",
       "      <td>432.0</td>\n",
       "      <td>94</td>\n",
       "      <td>1170299</td>\n",
       "      <td>35509</td>\n",
       "    </tr>\n",
       "    <tr>\n",
       "      <th>121</th>\n",
       "      <td>50265</td>\n",
       "      <td>Spy x Family</td>\n",
       "      <td>Unknown</td>\n",
       "      <td>SPY×FAMILY</td>\n",
       "      <td>Unknown</td>\n",
       "      <td>Corrupt politicians, frenzied nationalists, an...</td>\n",
       "      <td>TV</td>\n",
       "      <td>12.0</td>\n",
       "      <td>Finished Airing</td>\n",
       "      <td>Apr 9, 2022</td>\n",
       "      <td>...</td>\n",
       "      <td>Childcare</td>\n",
       "      <td>Shounen</td>\n",
       "      <td>24.0</td>\n",
       "      <td>PG-13 - Teens 13 or older</td>\n",
       "      <td>8.761</td>\n",
       "      <td>594653.0</td>\n",
       "      <td>372.0</td>\n",
       "      <td>122</td>\n",
       "      <td>1023960</td>\n",
       "      <td>33061</td>\n",
       "    </tr>\n",
       "    <tr>\n",
       "      <th>158</th>\n",
       "      <td>40852</td>\n",
       "      <td>Dr. Stone: Stone Wars</td>\n",
       "      <td>Dr. Stone 2nd Season, Dr. Stone Second Season</td>\n",
       "      <td>ドクターストーン STONE WARS</td>\n",
       "      <td>Unknown</td>\n",
       "      <td>Senkuu has made it his goal to bring back two ...</td>\n",
       "      <td>TV</td>\n",
       "      <td>11.0</td>\n",
       "      <td>Finished Airing</td>\n",
       "      <td>Jan 14, 2021</td>\n",
       "      <td>...</td>\n",
       "      <td>Survival, Time Travel</td>\n",
       "      <td>Shounen</td>\n",
       "      <td>24.0</td>\n",
       "      <td>PG-13 - Teens 13 or older</td>\n",
       "      <td>8.181</td>\n",
       "      <td>476690.0</td>\n",
       "      <td>3542.0</td>\n",
       "      <td>159</td>\n",
       "      <td>860439</td>\n",
       "      <td>6762</td>\n",
       "    </tr>\n",
       "    <tr>\n",
       "      <th>185</th>\n",
       "      <td>33674</td>\n",
       "      <td>No Game No Life: Zero</td>\n",
       "      <td>NGNL Zero, NGNL the Movie</td>\n",
       "      <td>ノーゲーム・ノーライフ ゼロ</td>\n",
       "      <td>Unknown</td>\n",
       "      <td>In ancient Disboard, Riku is an angry, young w...</td>\n",
       "      <td>Movie</td>\n",
       "      <td>1.0</td>\n",
       "      <td>Finished Airing</td>\n",
       "      <td>Jul 15, 2017</td>\n",
       "      <td>...</td>\n",
       "      <td>Isekai</td>\n",
       "      <td>Unknown</td>\n",
       "      <td>106.0</td>\n",
       "      <td>PG-13 - Teens 13 or older</td>\n",
       "      <td>8.211</td>\n",
       "      <td>429030.0</td>\n",
       "      <td>3152.0</td>\n",
       "      <td>186</td>\n",
       "      <td>788901</td>\n",
       "      <td>7330</td>\n",
       "    </tr>\n",
       "    <tr>\n",
       "      <th>203</th>\n",
       "      <td>39195</td>\n",
       "      <td>Beastars</td>\n",
       "      <td>Unknown</td>\n",
       "      <td>BEASTARS</td>\n",
       "      <td>Unknown</td>\n",
       "      <td>In a civilized society of anthropomorphic anim...</td>\n",
       "      <td>TV</td>\n",
       "      <td>12.0</td>\n",
       "      <td>Finished Airing</td>\n",
       "      <td>Oct 10, 2019</td>\n",
       "      <td>...</td>\n",
       "      <td>Anthropomorphic, Psychological, School</td>\n",
       "      <td>Shounen</td>\n",
       "      <td>22.0</td>\n",
       "      <td>R - 17+ (violence &amp; profanity)</td>\n",
       "      <td>7.871</td>\n",
       "      <td>472628.0</td>\n",
       "      <td>7542.0</td>\n",
       "      <td>204</td>\n",
       "      <td>756353</td>\n",
       "      <td>9118</td>\n",
       "    </tr>\n",
       "    <tr>\n",
       "      <th>...</th>\n",
       "      <td>...</td>\n",
       "      <td>...</td>\n",
       "      <td>...</td>\n",
       "      <td>...</td>\n",
       "      <td>...</td>\n",
       "      <td>...</td>\n",
       "      <td>...</td>\n",
       "      <td>...</td>\n",
       "      <td>...</td>\n",
       "      <td>...</td>\n",
       "      <td>...</td>\n",
       "      <td>...</td>\n",
       "      <td>...</td>\n",
       "      <td>...</td>\n",
       "      <td>...</td>\n",
       "      <td>...</td>\n",
       "      <td>...</td>\n",
       "      <td>...</td>\n",
       "      <td>...</td>\n",
       "      <td>...</td>\n",
       "      <td>...</td>\n",
       "    </tr>\n",
       "    <tr>\n",
       "      <th>21450</th>\n",
       "      <td>46759</td>\n",
       "      <td>Yu Liu Li</td>\n",
       "      <td>Yu Liuli</td>\n",
       "      <td>玉琉璃</td>\n",
       "      <td>Unknown</td>\n",
       "      <td>Unknown</td>\n",
       "      <td>TV</td>\n",
       "      <td>36.0</td>\n",
       "      <td>Finished Airing</td>\n",
       "      <td>Aug 2013</td>\n",
       "      <td>...</td>\n",
       "      <td>Unknown</td>\n",
       "      <td>Kids</td>\n",
       "      <td>12.0</td>\n",
       "      <td>PG - Children</td>\n",
       "      <td>NaN</td>\n",
       "      <td>NaN</td>\n",
       "      <td>164422.0</td>\n",
       "      <td>21480</td>\n",
       "      <td>15</td>\n",
       "      <td>0</td>\n",
       "    </tr>\n",
       "    <tr>\n",
       "      <th>21451</th>\n",
       "      <td>46763</td>\n",
       "      <td>Buding Xiao Zhen: Chengyu Juchang</td>\n",
       "      <td>Unknown</td>\n",
       "      <td>布丁小镇之成语剧场</td>\n",
       "      <td>Unknown</td>\n",
       "      <td>Unknown</td>\n",
       "      <td>TV</td>\n",
       "      <td>75.0</td>\n",
       "      <td>Finished Airing</td>\n",
       "      <td>Unknown</td>\n",
       "      <td>...</td>\n",
       "      <td>Anthropomorphic</td>\n",
       "      <td>Kids</td>\n",
       "      <td>12.0</td>\n",
       "      <td>PG - Children</td>\n",
       "      <td>NaN</td>\n",
       "      <td>NaN</td>\n",
       "      <td>171902.0</td>\n",
       "      <td>21481</td>\n",
       "      <td>15</td>\n",
       "      <td>0</td>\n",
       "    </tr>\n",
       "    <tr>\n",
       "      <th>21452</th>\n",
       "      <td>46764</td>\n",
       "      <td>Buding Xiao Zhen: Quwei Zhishi Wu</td>\n",
       "      <td>Unknown</td>\n",
       "      <td>布丁小镇之趣味知识屋</td>\n",
       "      <td>Unknown</td>\n",
       "      <td>Unknown</td>\n",
       "      <td>TV</td>\n",
       "      <td>72.0</td>\n",
       "      <td>Finished Airing</td>\n",
       "      <td>2013</td>\n",
       "      <td>...</td>\n",
       "      <td>Anthropomorphic</td>\n",
       "      <td>Kids</td>\n",
       "      <td>14.0</td>\n",
       "      <td>PG - Children</td>\n",
       "      <td>NaN</td>\n",
       "      <td>NaN</td>\n",
       "      <td>171912.0</td>\n",
       "      <td>21482</td>\n",
       "      <td>15</td>\n",
       "      <td>0</td>\n",
       "    </tr>\n",
       "    <tr>\n",
       "      <th>21453</th>\n",
       "      <td>46760</td>\n",
       "      <td>Caise Dou Yuan</td>\n",
       "      <td>Unknown</td>\n",
       "      <td>彩色豆园</td>\n",
       "      <td>Unknown</td>\n",
       "      <td>Unknown</td>\n",
       "      <td>TV</td>\n",
       "      <td>52.0</td>\n",
       "      <td>Finished Airing</td>\n",
       "      <td>2014</td>\n",
       "      <td>...</td>\n",
       "      <td>Unknown</td>\n",
       "      <td>Kids</td>\n",
       "      <td>11.0</td>\n",
       "      <td>PG - Children</td>\n",
       "      <td>NaN</td>\n",
       "      <td>NaN</td>\n",
       "      <td>172252.0</td>\n",
       "      <td>21483</td>\n",
       "      <td>15</td>\n",
       "      <td>0</td>\n",
       "    </tr>\n",
       "    <tr>\n",
       "      <th>21454</th>\n",
       "      <td>46729</td>\n",
       "      <td>Da Jing Xiao Guai</td>\n",
       "      <td>Unknown</td>\n",
       "      <td>大京小怪</td>\n",
       "      <td>Unknown</td>\n",
       "      <td>Unknown</td>\n",
       "      <td>ONA</td>\n",
       "      <td>2.0</td>\n",
       "      <td>Finished Airing</td>\n",
       "      <td>Dec 24, 2013</td>\n",
       "      <td>...</td>\n",
       "      <td>Parody</td>\n",
       "      <td>Unknown</td>\n",
       "      <td>17.0</td>\n",
       "      <td>PG-13 - Teens 13 or older</td>\n",
       "      <td>NaN</td>\n",
       "      <td>NaN</td>\n",
       "      <td>175082.0</td>\n",
       "      <td>21484</td>\n",
       "      <td>16</td>\n",
       "      <td>0</td>\n",
       "    </tr>\n",
       "  </tbody>\n",
       "</table>\n",
       "<p>12378 rows × 28 columns</p>\n",
       "</div>"
      ],
      "text/plain": [
       "          ID                              Title  \\\n",
       "93     37521                       Vinland Saga   \n",
       "121    50265                       Spy x Family   \n",
       "158    40852              Dr. Stone: Stone Wars   \n",
       "185    33674              No Game No Life: Zero   \n",
       "203    39195                           Beastars   \n",
       "...      ...                                ...   \n",
       "21450  46759                          Yu Liu Li   \n",
       "21451  46763  Buding Xiao Zhen: Chengyu Juchang   \n",
       "21452  46764  Buding Xiao Zhen: Quwei Zhishi Wu   \n",
       "21453  46760                     Caise Dou Yuan   \n",
       "21454  46729                  Da Jing Xiao Guai   \n",
       "\n",
       "                                            Synonyms             Japanese  \\\n",
       "93                                           Unknown            ヴィンランド・サガ   \n",
       "121                                          Unknown           SPY×FAMILY   \n",
       "158    Dr. Stone 2nd Season, Dr. Stone Second Season  ドクターストーン STONE WARS   \n",
       "185                        NGNL Zero, NGNL the Movie       ノーゲーム・ノーライフ ゼロ   \n",
       "203                                          Unknown             BEASTARS   \n",
       "...                                              ...                  ...   \n",
       "21450                                       Yu Liuli                  玉琉璃   \n",
       "21451                                        Unknown            布丁小镇之成语剧场   \n",
       "21452                                        Unknown           布丁小镇之趣味知识屋   \n",
       "21453                                        Unknown                 彩色豆园   \n",
       "21454                                        Unknown                 大京小怪   \n",
       "\n",
       "       English                                           Synopsis   Type  \\\n",
       "93     Unknown  Young Thorfinn grew up listening to the storie...     TV   \n",
       "121    Unknown  Corrupt politicians, frenzied nationalists, an...     TV   \n",
       "158    Unknown  Senkuu has made it his goal to bring back two ...     TV   \n",
       "185    Unknown  In ancient Disboard, Riku is an angry, young w...  Movie   \n",
       "203    Unknown  In a civilized society of anthropomorphic anim...     TV   \n",
       "...        ...                                                ...    ...   \n",
       "21450  Unknown                                            Unknown     TV   \n",
       "21451  Unknown                                            Unknown     TV   \n",
       "21452  Unknown                                            Unknown     TV   \n",
       "21453  Unknown                                            Unknown     TV   \n",
       "21454  Unknown                                            Unknown    ONA   \n",
       "\n",
       "       Episodes           Status   Start_Aired  ...  \\\n",
       "93         24.0  Finished Airing   Jul 8, 2019  ...   \n",
       "121        12.0  Finished Airing   Apr 9, 2022  ...   \n",
       "158        11.0  Finished Airing  Jan 14, 2021  ...   \n",
       "185         1.0  Finished Airing  Jul 15, 2017  ...   \n",
       "203        12.0  Finished Airing  Oct 10, 2019  ...   \n",
       "...         ...              ...           ...  ...   \n",
       "21450      36.0  Finished Airing      Aug 2013  ...   \n",
       "21451      75.0  Finished Airing       Unknown  ...   \n",
       "21452      72.0  Finished Airing          2013  ...   \n",
       "21453      52.0  Finished Airing          2014  ...   \n",
       "21454       2.0  Finished Airing  Dec 24, 2013  ...   \n",
       "\n",
       "                                       Themes Demographics Duration_Minutes  \\\n",
       "93                                 Historical       Seinen             24.0   \n",
       "121                                 Childcare      Shounen             24.0   \n",
       "158                     Survival, Time Travel      Shounen             24.0   \n",
       "185                                    Isekai      Unknown            106.0   \n",
       "203    Anthropomorphic, Psychological, School      Shounen             22.0   \n",
       "...                                       ...          ...              ...   \n",
       "21450                                 Unknown         Kids             12.0   \n",
       "21451                         Anthropomorphic         Kids             12.0   \n",
       "21452                         Anthropomorphic         Kids             14.0   \n",
       "21453                                 Unknown         Kids             11.0   \n",
       "21454                                  Parody      Unknown             17.0   \n",
       "\n",
       "                               Rating  Score Scored_Users    Ranked  \\\n",
       "93     R - 17+ (violence & profanity)  8.731     647802.0     432.0   \n",
       "121         PG-13 - Teens 13 or older  8.761     594653.0     372.0   \n",
       "158         PG-13 - Teens 13 or older  8.181     476690.0    3542.0   \n",
       "185         PG-13 - Teens 13 or older  8.211     429030.0    3152.0   \n",
       "203    R - 17+ (violence & profanity)  7.871     472628.0    7542.0   \n",
       "...                               ...    ...          ...       ...   \n",
       "21450                   PG - Children    NaN          NaN  164422.0   \n",
       "21451                   PG - Children    NaN          NaN  171902.0   \n",
       "21452                   PG - Children    NaN          NaN  171912.0   \n",
       "21453                   PG - Children    NaN          NaN  172252.0   \n",
       "21454       PG-13 - Teens 13 or older    NaN          NaN  175082.0   \n",
       "\n",
       "      Popularity  Members Favorites  \n",
       "93            94  1170299     35509  \n",
       "121          122  1023960     33061  \n",
       "158          159   860439      6762  \n",
       "185          186   788901      7330  \n",
       "203          204   756353      9118  \n",
       "...          ...      ...       ...  \n",
       "21450      21480       15         0  \n",
       "21451      21481       15         0  \n",
       "21452      21482       15         0  \n",
       "21453      21483       15         0  \n",
       "21454      21484       16         0  \n",
       "\n",
       "[12378 rows x 28 columns]"
      ]
     },
     "execution_count": 11,
     "metadata": {},
     "output_type": "execute_result"
    }
   ],
   "source": [
    "anime_d[(anime_d[\"English\"]==\"Unknown\")]"
   ]
  },
  {
   "cell_type": "code",
   "execution_count": 35,
   "id": "493a784e",
   "metadata": {},
   "outputs": [
    {
     "data": {
      "text/plain": [
       "ID                      0\n",
       "Title                   0\n",
       "Synonyms             9280\n",
       "Japanese               62\n",
       "English             12378\n",
       "Synopsis             2718\n",
       "Type                   45\n",
       "Episodes                0\n",
       "Status                  0\n",
       "Start_Aired           374\n",
       "End_Aired            1073\n",
       "Premiered           16236\n",
       "Broadcast           18316\n",
       "Producers           10588\n",
       "Licensors           16884\n",
       "Studios              8090\n",
       "Source               3602\n",
       "Genres               3699\n",
       "Themes               9648\n",
       "Demographics        13426\n",
       "Duration_Minutes        0\n",
       "Rating                  0\n",
       "Score                   0\n",
       "Scored_Users            0\n",
       "Ranked                  0\n",
       "Popularity              0\n",
       "Members                 0\n",
       "Favorites               0\n",
       "dtype: int64"
      ]
     },
     "execution_count": 35,
     "metadata": {},
     "output_type": "execute_result"
    }
   ],
   "source": [
    "\n",
    "anime_d[anime_d == \"Unknown\"].count()"
   ]
  },
  {
   "cell_type": "code",
   "execution_count": 47,
   "id": "927dbf32",
   "metadata": {},
   "outputs": [],
   "source": [
    "anime20_d=anime20_d.rename(columns={'title':'Title'})\n",
    "anime20_d=anime20_d.drop_duplicates(subset=['Title'])\n",
    "new20_d=pd.merge(anime20_d,anime_d[['Title','English']],on='Title')"
   ]
  },
  {
   "cell_type": "code",
   "execution_count": 85,
   "id": "712c441f",
   "metadata": {},
   "outputs": [
    {
     "data": {
      "text/plain": [
       "uid               0\n",
       "Title             0\n",
       "synopsis        695\n",
       "genre             0\n",
       "aired             0\n",
       "episodes        414\n",
       "members           0\n",
       "popularity        0\n",
       "ranked         1559\n",
       "score           248\n",
       "img_url         157\n",
       "link              0\n",
       "English           0\n",
       "English_new       0\n",
       "dtype: int64"
      ]
     },
     "execution_count": 85,
     "metadata": {},
     "output_type": "execute_result"
    }
   ],
   "source": [
    "new20_d.isnull().sum()"
   ]
  },
  {
   "cell_type": "code",
   "execution_count": 84,
   "id": "6f2a399e",
   "metadata": {},
   "outputs": [
    {
     "data": {
      "text/plain": [
       "uid               0\n",
       "Title             0\n",
       "synopsis          0\n",
       "genre             0\n",
       "aired             0\n",
       "episodes          0\n",
       "members           0\n",
       "popularity        0\n",
       "ranked            0\n",
       "score             0\n",
       "img_url           0\n",
       "link              0\n",
       "English        8643\n",
       "English_new       0\n",
       "dtype: int64"
      ]
     },
     "execution_count": 84,
     "metadata": {},
     "output_type": "execute_result"
    }
   ],
   "source": [
    "new20_d[new20_d == \"Unknown\"].count()"
   ]
  },
  {
   "cell_type": "code",
   "execution_count": 78,
   "id": "8590f39d",
   "metadata": {},
   "outputs": [],
   "source": [
    "new20_d['English_new'] = np.where(new20_d['English'] ==\"Unknown\", new20_d['Title'],new20_d['English'] )"
   ]
  },
  {
   "cell_type": "code",
   "execution_count": 89,
   "id": "7365fb33",
   "metadata": {},
   "outputs": [
    {
     "name": "stdout",
     "output_type": "stream",
     "text": [
      "<class 'pandas.core.frame.DataFrame'>\n",
      "Int64Index: 15557 entries, 0 to 15556\n",
      "Data columns (total 14 columns):\n",
      " #   Column       Non-Null Count  Dtype  \n",
      "---  ------       --------------  -----  \n",
      " 0   uid          15557 non-null  int64  \n",
      " 1   Title        15557 non-null  object \n",
      " 2   synopsis     14862 non-null  object \n",
      " 3   genre        15557 non-null  object \n",
      " 4   aired        15557 non-null  object \n",
      " 5   episodes     15143 non-null  float64\n",
      " 6   members      15557 non-null  int64  \n",
      " 7   popularity   15557 non-null  int64  \n",
      " 8   ranked       13998 non-null  float64\n",
      " 9   score        15309 non-null  float64\n",
      " 10  img_url      15400 non-null  object \n",
      " 11  link         15557 non-null  object \n",
      " 12  English      15557 non-null  object \n",
      " 13  English_new  15557 non-null  object \n",
      "dtypes: float64(3), int64(3), object(8)\n",
      "memory usage: 1.8+ MB\n"
     ]
    }
   ],
   "source": [
    "new20_d.info()"
   ]
  },
  {
   "cell_type": "code",
   "execution_count": 90,
   "id": "f4e4f873",
   "metadata": {},
   "outputs": [
    {
     "data": {
      "text/plain": [
       "['uid',\n",
       " 'Title',\n",
       " 'synopsis',\n",
       " 'genre',\n",
       " 'aired',\n",
       " 'episodes',\n",
       " 'members',\n",
       " 'popularity',\n",
       " 'ranked',\n",
       " 'score',\n",
       " 'img_url',\n",
       " 'link',\n",
       " 'English',\n",
       " 'English_new']"
      ]
     },
     "execution_count": 90,
     "metadata": {},
     "output_type": "execute_result"
    }
   ],
   "source": [
    "list(new20_d.columns)"
   ]
  },
  {
   "cell_type": "code",
   "execution_count": 91,
   "id": "8eec7f7d",
   "metadata": {},
   "outputs": [],
   "source": [
    "new20_df=new20_d.drop([\n",
    " 'Title',\n",
    " 'synopsis',\n",
    " 'genre',\n",
    " 'aired',\n",
    " 'episodes',\n",
    " 'members',\n",
    " 'popularity',\n",
    " 'ranked',\n",
    " 'score',\n",
    " 'img_url',\n",
    " 'link',\n",
    " 'English'],axis=1)"
   ]
  },
  {
   "cell_type": "code",
   "execution_count": 92,
   "id": "48614675",
   "metadata": {},
   "outputs": [
    {
     "name": "stdout",
     "output_type": "stream",
     "text": [
      "<class 'pandas.core.frame.DataFrame'>\n",
      "Int64Index: 15557 entries, 0 to 15556\n",
      "Data columns (total 2 columns):\n",
      " #   Column       Non-Null Count  Dtype \n",
      "---  ------       --------------  ----- \n",
      " 0   uid          15557 non-null  int64 \n",
      " 1   English_new  15557 non-null  object\n",
      "dtypes: int64(1), object(1)\n",
      "memory usage: 364.6+ KB\n"
     ]
    }
   ],
   "source": [
    "new20_df.info()"
   ]
  },
  {
   "cell_type": "code",
   "execution_count": 96,
   "id": "6381b304",
   "metadata": {},
   "outputs": [
    {
     "name": "stdout",
     "output_type": "stream",
     "text": [
      "<class 'pandas.core.frame.DataFrame'>\n",
      "RangeIndex: 192112 entries, 0 to 192111\n",
      "Data columns (total 3 columns):\n",
      " #   Column     Non-Null Count   Dtype\n",
      "---  ------     --------------   -----\n",
      " 0   uid        192112 non-null  int64\n",
      " 1   anime_uid  192112 non-null  int64\n",
      " 2   score      192112 non-null  int64\n",
      "dtypes: int64(3)\n",
      "memory usage: 4.4 MB\n"
     ]
    }
   ],
   "source": [
    "rev20_df.info()"
   ]
  },
  {
   "cell_type": "code",
   "execution_count": 94,
   "id": "593baca8",
   "metadata": {},
   "outputs": [],
   "source": [
    "rev20_df=rev20_d.drop([\n",
    " 'profile',\n",
    " 'text',\n",
    " 'scores',\n",
    " 'link'],axis=1)"
   ]
  },
  {
   "cell_type": "code",
   "execution_count": 97,
   "id": "2af344be",
   "metadata": {},
   "outputs": [
    {
     "data": {
      "text/plain": [
       "uid            0\n",
       "English_new    0\n",
       "dtype: int64"
      ]
     },
     "execution_count": 97,
     "metadata": {},
     "output_type": "execute_result"
    }
   ],
   "source": [
    "new20_df.isnull().sum()"
   ]
  },
  {
   "cell_type": "code",
   "execution_count": 99,
   "id": "a2678387",
   "metadata": {},
   "outputs": [],
   "source": [
    "rev20_df=rev20_df.rename(columns={'uid':'user_id'})\n",
    "new20_df=new20_df.rename(columns={'uid':'anime_uid'})"
   ]
  },
  {
   "cell_type": "code",
   "execution_count": 106,
   "id": "2dd9b289",
   "metadata": {},
   "outputs": [],
   "source": [
    "ani20_df = pd.merge(new20_df,rev20_df,on=\"anime_uid\")"
   ]
  },
  {
   "cell_type": "code",
   "execution_count": 107,
   "id": "181a4dbf",
   "metadata": {},
   "outputs": [
    {
     "data": {
      "text/html": [
       "<div>\n",
       "<style scoped>\n",
       "    .dataframe tbody tr th:only-of-type {\n",
       "        vertical-align: middle;\n",
       "    }\n",
       "\n",
       "    .dataframe tbody tr th {\n",
       "        vertical-align: top;\n",
       "    }\n",
       "\n",
       "    .dataframe thead th {\n",
       "        text-align: right;\n",
       "    }\n",
       "</style>\n",
       "<table border=\"1\" class=\"dataframe\">\n",
       "  <thead>\n",
       "    <tr style=\"text-align: right;\">\n",
       "      <th></th>\n",
       "      <th>anime_uid</th>\n",
       "      <th>English_new</th>\n",
       "      <th>user_id</th>\n",
       "      <th>score</th>\n",
       "    </tr>\n",
       "  </thead>\n",
       "  <tbody>\n",
       "    <tr>\n",
       "      <th>0</th>\n",
       "      <td>28891</td>\n",
       "      <td>Haikyu!! 2nd Season</td>\n",
       "      <td>253664</td>\n",
       "      <td>7</td>\n",
       "    </tr>\n",
       "    <tr>\n",
       "      <th>1</th>\n",
       "      <td>28891</td>\n",
       "      <td>Haikyu!! 2nd Season</td>\n",
       "      <td>254554</td>\n",
       "      <td>10</td>\n",
       "    </tr>\n",
       "    <tr>\n",
       "      <th>2</th>\n",
       "      <td>28891</td>\n",
       "      <td>Haikyu!! 2nd Season</td>\n",
       "      <td>271227</td>\n",
       "      <td>10</td>\n",
       "    </tr>\n",
       "    <tr>\n",
       "      <th>3</th>\n",
       "      <td>28891</td>\n",
       "      <td>Haikyu!! 2nd Season</td>\n",
       "      <td>284956</td>\n",
       "      <td>7</td>\n",
       "    </tr>\n",
       "    <tr>\n",
       "      <th>4</th>\n",
       "      <td>28891</td>\n",
       "      <td>Haikyu!! 2nd Season</td>\n",
       "      <td>249279</td>\n",
       "      <td>8</td>\n",
       "    </tr>\n",
       "  </tbody>\n",
       "</table>\n",
       "</div>"
      ],
      "text/plain": [
       "   anime_uid          English_new  user_id  score\n",
       "0      28891  Haikyu!! 2nd Season   253664      7\n",
       "1      28891  Haikyu!! 2nd Season   254554     10\n",
       "2      28891  Haikyu!! 2nd Season   271227     10\n",
       "3      28891  Haikyu!! 2nd Season   284956      7\n",
       "4      28891  Haikyu!! 2nd Season   249279      8"
      ]
     },
     "execution_count": 107,
     "metadata": {},
     "output_type": "execute_result"
    }
   ],
   "source": [
    "ani20_df.head()"
   ]
  },
  {
   "cell_type": "code",
   "execution_count": 103,
   "id": "609325fb",
   "metadata": {},
   "outputs": [],
   "source": [
    "counts = ani20_df['user_id'].value_counts()\n",
    "ani20_df = ani20_df[ani20_df['user_id'].isin(counts[counts >= 500].index)]"
   ]
  },
  {
   "cell_type": "code",
   "execution_count": 117,
   "id": "5b05e3de",
   "metadata": {},
   "outputs": [
    {
     "data": {
      "text/plain": [
       "1535     1708\n",
       "9253     1558\n",
       "32281    1436\n",
       "11757    1292\n",
       "5114     1274\n",
       "         ... \n",
       "1998        1\n",
       "37969       1\n",
       "2180        1\n",
       "9818        1\n",
       "36492       1\n",
       "Name: anime_uid, Length: 7864, dtype: int64"
      ]
     },
     "execution_count": 117,
     "metadata": {},
     "output_type": "execute_result"
    }
   ],
   "source": [
    "ani20_df['anime_uid'].value_counts()"
   ]
  },
  {
   "cell_type": "code",
   "execution_count": 104,
   "id": "90163db5",
   "metadata": {},
   "outputs": [
    {
     "data": {
      "text/html": [
       "<div>\n",
       "<style scoped>\n",
       "    .dataframe tbody tr th:only-of-type {\n",
       "        vertical-align: middle;\n",
       "    }\n",
       "\n",
       "    .dataframe tbody tr th {\n",
       "        vertical-align: top;\n",
       "    }\n",
       "\n",
       "    .dataframe thead th {\n",
       "        text-align: right;\n",
       "    }\n",
       "</style>\n",
       "<table border=\"1\" class=\"dataframe\">\n",
       "  <thead>\n",
       "    <tr style=\"text-align: right;\">\n",
       "      <th>user_id</th>\n",
       "    </tr>\n",
       "    <tr>\n",
       "      <th>English_new</th>\n",
       "    </tr>\n",
       "  </thead>\n",
       "  <tbody>\n",
       "  </tbody>\n",
       "</table>\n",
       "</div>"
      ],
      "text/plain": [
       "Empty DataFrame\n",
       "Columns: []\n",
       "Index: []"
      ]
     },
     "execution_count": 104,
     "metadata": {},
     "output_type": "execute_result"
    }
   ],
   "source": [
    "anime_pivot=ani20_df.pivot_table(index='English_new',columns='user_id',values='score').fillna(0)\n",
    "anime_pivot.head()"
   ]
  },
  {
   "cell_type": "code",
   "execution_count": null,
   "id": "53ce01e8",
   "metadata": {},
   "outputs": [],
   "source": []
  }
 ],
 "metadata": {
  "kernelspec": {
   "display_name": "Python 3 (ipykernel)",
   "language": "python",
   "name": "python3"
  },
  "language_info": {
   "codemirror_mode": {
    "name": "ipython",
    "version": 3
   },
   "file_extension": ".py",
   "mimetype": "text/x-python",
   "name": "python",
   "nbconvert_exporter": "python",
   "pygments_lexer": "ipython3",
   "version": "3.9.13"
  }
 },
 "nbformat": 4,
 "nbformat_minor": 5
}
